{
 "metadata": {
  "language_info": {
   "codemirror_mode": {
    "name": "ipython",
    "version": 3
   },
   "file_extension": ".py",
   "mimetype": "text/x-python",
   "name": "python",
   "nbconvert_exporter": "python",
   "pygments_lexer": "ipython3",
   "version": "3.8.5-final"
  },
  "orig_nbformat": 2,
  "kernelspec": {
   "name": "python3",
   "display_name": "Python 3",
   "language": "python"
  }
 },
 "nbformat": 4,
 "nbformat_minor": 2,
 "cells": [
  {
   "source": [
    "# Activity 8.01: Is the Mushroom Poisonous?"
   ],
   "cell_type": "markdown",
   "metadata": {}
  },
  {
   "source": [
    "Assume we want to develop a machine learning model capable of discerning whether a particular mushroom species is poisonous or not given attributes relating to its appearance.\n",
    "\n",
    "The objective of this activity is to employ the grid and randomized search strategies to find an optimal model for this purpose."
   ],
   "cell_type": "markdown",
   "metadata": {}
  },
  {
   "cell_type": "code",
   "execution_count": 1,
   "metadata": {},
   "outputs": [],
   "source": [
    "import pandas as pd "
   ]
  },
  {
   "cell_type": "code",
   "execution_count": 2,
   "metadata": {},
   "outputs": [],
   "source": [
    "mushrooms = pd.read_csv('https://raw.githubusercontent.com/PacktWorkshops/The-Data-Science-Workshop/master/Chapter08/Dataset/agaricus-lepiota.data', header=None)\n"
   ]
  },
  {
   "cell_type": "code",
   "execution_count": 3,
   "metadata": {},
   "outputs": [],
   "source": [
    "X_raw = mushrooms.iloc[:,1:]\n",
    "y_raw = mushrooms.iloc[:,0]\n",
    "y = (y_raw == 'p') * 1"
   ]
  },
  {
   "cell_type": "code",
   "execution_count": 4,
   "metadata": {},
   "outputs": [],
   "source": [
    "from sklearn.preprocessing import OneHotEncoder\n",
    "\n",
    "encoder = OneHotEncoder()\n",
    "encoder.fit(X_raw)\n",
    "X = encoder.transform(X_raw).toarray()"
   ]
  },
  {
   "cell_type": "code",
   "execution_count": 5,
   "metadata": {},
   "outputs": [
    {
     "output_type": "execute_result",
     "data": {
      "text/plain": [
       "GridSearchCV(cv=5, estimator=RandomForestClassifier(random_state=100),\n",
       "             param_grid={'criterion': ['gini', 'entropy'],\n",
       "                         'max_features': [2, 4, 6, 8, 10, 12, 14]},\n",
       "             scoring='accuracy')"
      ]
     },
     "metadata": {},
     "execution_count": 5
    }
   ],
   "source": [
    "# using grid search to find optimal hyperparameterization for a random forest classifier\n",
    "from sklearn.ensemble import RandomForestClassifier\n",
    "from sklearn.model_selection import GridSearchCV, RandomizedSearchCV\n",
    "\n",
    "rfc = RandomForestClassifier(n_estimators=100, random_state=100)\n",
    "\n",
    "grid = {\n",
    "    'criterion' : ['gini', 'entropy'],\n",
    "    'max_features' : [2, 4, 6, 8, 10, 12, 14]\n",
    "}\n",
    "gscv = GridSearchCV(estimator=rfc, param_grid=grid, cv=5, scoring='accuracy')\n",
    "\n",
    "gscv.fit(X,y)\n"
   ]
  },
  {
   "cell_type": "code",
   "execution_count": 10,
   "metadata": {},
   "outputs": [
    {
     "output_type": "execute_result",
     "data": {
      "text/plain": [
       "    mean_fit_time  std_fit_time  mean_score_time  std_score_time  \\\n",
       "9        0.409890      0.017017         0.028983        0.003032   \n",
       "13       0.485587      0.005161         0.025185        0.000972   \n",
       "6        0.492136      0.012008         0.025389        0.001025   \n",
       "10       0.423497      0.010722         0.026114        0.001342   \n",
       "4        0.456774      0.007299         0.026309        0.001563   \n",
       "\n",
       "   param_criterion param_max_features  \\\n",
       "9          entropy                  6   \n",
       "13         entropy                 14   \n",
       "6             gini                 14   \n",
       "10         entropy                  8   \n",
       "4             gini                 10   \n",
       "\n",
       "                                          params  split0_test_score  \\\n",
       "9    {'criterion': 'entropy', 'max_features': 6}           0.842462   \n",
       "13  {'criterion': 'entropy', 'max_features': 14}           0.842462   \n",
       "6      {'criterion': 'gini', 'max_features': 14}           0.842462   \n",
       "10   {'criterion': 'entropy', 'max_features': 8}           0.842462   \n",
       "4      {'criterion': 'gini', 'max_features': 10}           0.842462   \n",
       "\n",
       "    split1_test_score  split2_test_score  split3_test_score  \\\n",
       "9                 1.0           0.999385                1.0   \n",
       "13                1.0           1.000000                1.0   \n",
       "6                 1.0           1.000000                1.0   \n",
       "10                1.0           1.000000                1.0   \n",
       "4                 1.0           1.000000                1.0   \n",
       "\n",
       "    split4_test_score  mean_test_score  std_test_score  rank_test_score  \n",
       "9            0.838670         0.936103        0.078016                1  \n",
       "13           0.821429         0.932778        0.082598                2  \n",
       "6            0.819581         0.932409        0.083098                3  \n",
       "10           0.806034         0.929699        0.086868                4  \n",
       "4            0.798030         0.928098        0.089175                5  "
      ],
      "text/html": "<div>\n<style scoped>\n    .dataframe tbody tr th:only-of-type {\n        vertical-align: middle;\n    }\n\n    .dataframe tbody tr th {\n        vertical-align: top;\n    }\n\n    .dataframe thead th {\n        text-align: right;\n    }\n</style>\n<table border=\"1\" class=\"dataframe\">\n  <thead>\n    <tr style=\"text-align: right;\">\n      <th></th>\n      <th>mean_fit_time</th>\n      <th>std_fit_time</th>\n      <th>mean_score_time</th>\n      <th>std_score_time</th>\n      <th>param_criterion</th>\n      <th>param_max_features</th>\n      <th>params</th>\n      <th>split0_test_score</th>\n      <th>split1_test_score</th>\n      <th>split2_test_score</th>\n      <th>split3_test_score</th>\n      <th>split4_test_score</th>\n      <th>mean_test_score</th>\n      <th>std_test_score</th>\n      <th>rank_test_score</th>\n    </tr>\n  </thead>\n  <tbody>\n    <tr>\n      <th>9</th>\n      <td>0.409890</td>\n      <td>0.017017</td>\n      <td>0.028983</td>\n      <td>0.003032</td>\n      <td>entropy</td>\n      <td>6</td>\n      <td>{'criterion': 'entropy', 'max_features': 6}</td>\n      <td>0.842462</td>\n      <td>1.0</td>\n      <td>0.999385</td>\n      <td>1.0</td>\n      <td>0.838670</td>\n      <td>0.936103</td>\n      <td>0.078016</td>\n      <td>1</td>\n    </tr>\n    <tr>\n      <th>13</th>\n      <td>0.485587</td>\n      <td>0.005161</td>\n      <td>0.025185</td>\n      <td>0.000972</td>\n      <td>entropy</td>\n      <td>14</td>\n      <td>{'criterion': 'entropy', 'max_features': 14}</td>\n      <td>0.842462</td>\n      <td>1.0</td>\n      <td>1.000000</td>\n      <td>1.0</td>\n      <td>0.821429</td>\n      <td>0.932778</td>\n      <td>0.082598</td>\n      <td>2</td>\n    </tr>\n    <tr>\n      <th>6</th>\n      <td>0.492136</td>\n      <td>0.012008</td>\n      <td>0.025389</td>\n      <td>0.001025</td>\n      <td>gini</td>\n      <td>14</td>\n      <td>{'criterion': 'gini', 'max_features': 14}</td>\n      <td>0.842462</td>\n      <td>1.0</td>\n      <td>1.000000</td>\n      <td>1.0</td>\n      <td>0.819581</td>\n      <td>0.932409</td>\n      <td>0.083098</td>\n      <td>3</td>\n    </tr>\n    <tr>\n      <th>10</th>\n      <td>0.423497</td>\n      <td>0.010722</td>\n      <td>0.026114</td>\n      <td>0.001342</td>\n      <td>entropy</td>\n      <td>8</td>\n      <td>{'criterion': 'entropy', 'max_features': 8}</td>\n      <td>0.842462</td>\n      <td>1.0</td>\n      <td>1.000000</td>\n      <td>1.0</td>\n      <td>0.806034</td>\n      <td>0.929699</td>\n      <td>0.086868</td>\n      <td>4</td>\n    </tr>\n    <tr>\n      <th>4</th>\n      <td>0.456774</td>\n      <td>0.007299</td>\n      <td>0.026309</td>\n      <td>0.001563</td>\n      <td>gini</td>\n      <td>10</td>\n      <td>{'criterion': 'gini', 'max_features': 10}</td>\n      <td>0.842462</td>\n      <td>1.0</td>\n      <td>1.000000</td>\n      <td>1.0</td>\n      <td>0.798030</td>\n      <td>0.928098</td>\n      <td>0.089175</td>\n      <td>5</td>\n    </tr>\n  </tbody>\n</table>\n</div>"
     },
     "metadata": {},
     "execution_count": 10
    }
   ],
   "source": [
    "gscv_results =pd.DataFrame(gscv.cv_results_)\n",
    "gscv_results.sort_values('rank_test_score', ascending=True).head(5)"
   ]
  },
  {
   "cell_type": "code",
   "execution_count": 8,
   "metadata": {},
   "outputs": [
    {
     "output_type": "execute_result",
     "data": {
      "text/plain": [
       "RandomizedSearchCV(cv=5, estimator=RandomForestClassifier(random_state=100),\n",
       "                   n_iter=50,\n",
       "                   param_distributions={'criterion': ['gini', 'entropy'],\n",
       "                                        'max_features': <scipy.stats._distn_infrastructure.rv_frozen object at 0x0000019F64865F70>},\n",
       "                   scoring='accuracy')"
      ]
     },
     "metadata": {},
     "execution_count": 8
    }
   ],
   "source": [
    "# using random search to find optimal hyperparameterization\n",
    "from scipy import stats\n",
    "\n",
    "max_features = X.shape[1]\n",
    "param_dist = {\n",
    "    'criterion': ['gini', 'entropy'],\n",
    "    'max_features': stats.randint(low=1, high=max_features)\n",
    "}\n",
    "rscv = RandomizedSearchCV(estimator=rfc, param_distributions=param_dist, n_iter=50, cv=5, scoring='accuracy')\n",
    "\n",
    "rscv.fit(X,y)"
   ]
  },
  {
   "cell_type": "code",
   "execution_count": 9,
   "metadata": {},
   "outputs": [
    {
     "output_type": "execute_result",
     "data": {
      "text/plain": [
       "    mean_fit_time  std_fit_time  mean_score_time  std_score_time  \\\n",
       "44       1.234103      0.115426         0.024788        0.001470   \n",
       "19       1.352329      0.136690         0.023391        0.001195   \n",
       "21       1.284165      0.118848         0.023630        0.000861   \n",
       "32       1.426627      0.146538         0.026190        0.005908   \n",
       "3        1.520823      0.204488         0.023380        0.001020   \n",
       "\n",
       "   param_criterion param_max_features  \\\n",
       "44            gini                 79   \n",
       "19            gini                 87   \n",
       "21            gini                 82   \n",
       "32            gini                 93   \n",
       "3             gini                 98   \n",
       "\n",
       "                                       params  split0_test_score  \\\n",
       "44  {'criterion': 'gini', 'max_features': 79}                1.0   \n",
       "19  {'criterion': 'gini', 'max_features': 87}                1.0   \n",
       "21  {'criterion': 'gini', 'max_features': 82}                1.0   \n",
       "32  {'criterion': 'gini', 'max_features': 93}                1.0   \n",
       "3   {'criterion': 'gini', 'max_features': 98}                1.0   \n",
       "\n",
       "    split1_test_score  split2_test_score  split3_test_score  \\\n",
       "44                1.0           0.996308                1.0   \n",
       "19                1.0           0.996308                1.0   \n",
       "21                1.0           0.996308                1.0   \n",
       "32                1.0           0.996308                1.0   \n",
       "3                 1.0           0.996308                1.0   \n",
       "\n",
       "    split4_test_score  mean_test_score  std_test_score  rank_test_score  \n",
       "44           0.817118         0.962685        0.072798                1  \n",
       "19           0.745074         0.948276        0.101611                2  \n",
       "21           0.737685         0.946798        0.104567                3  \n",
       "32           0.737685         0.946798        0.104567                3  \n",
       "3            0.730296         0.945321        0.107522                5  "
      ],
      "text/html": "<div>\n<style scoped>\n    .dataframe tbody tr th:only-of-type {\n        vertical-align: middle;\n    }\n\n    .dataframe tbody tr th {\n        vertical-align: top;\n    }\n\n    .dataframe thead th {\n        text-align: right;\n    }\n</style>\n<table border=\"1\" class=\"dataframe\">\n  <thead>\n    <tr style=\"text-align: right;\">\n      <th></th>\n      <th>mean_fit_time</th>\n      <th>std_fit_time</th>\n      <th>mean_score_time</th>\n      <th>std_score_time</th>\n      <th>param_criterion</th>\n      <th>param_max_features</th>\n      <th>params</th>\n      <th>split0_test_score</th>\n      <th>split1_test_score</th>\n      <th>split2_test_score</th>\n      <th>split3_test_score</th>\n      <th>split4_test_score</th>\n      <th>mean_test_score</th>\n      <th>std_test_score</th>\n      <th>rank_test_score</th>\n    </tr>\n  </thead>\n  <tbody>\n    <tr>\n      <th>44</th>\n      <td>1.234103</td>\n      <td>0.115426</td>\n      <td>0.024788</td>\n      <td>0.001470</td>\n      <td>gini</td>\n      <td>79</td>\n      <td>{'criterion': 'gini', 'max_features': 79}</td>\n      <td>1.0</td>\n      <td>1.0</td>\n      <td>0.996308</td>\n      <td>1.0</td>\n      <td>0.817118</td>\n      <td>0.962685</td>\n      <td>0.072798</td>\n      <td>1</td>\n    </tr>\n    <tr>\n      <th>19</th>\n      <td>1.352329</td>\n      <td>0.136690</td>\n      <td>0.023391</td>\n      <td>0.001195</td>\n      <td>gini</td>\n      <td>87</td>\n      <td>{'criterion': 'gini', 'max_features': 87}</td>\n      <td>1.0</td>\n      <td>1.0</td>\n      <td>0.996308</td>\n      <td>1.0</td>\n      <td>0.745074</td>\n      <td>0.948276</td>\n      <td>0.101611</td>\n      <td>2</td>\n    </tr>\n    <tr>\n      <th>21</th>\n      <td>1.284165</td>\n      <td>0.118848</td>\n      <td>0.023630</td>\n      <td>0.000861</td>\n      <td>gini</td>\n      <td>82</td>\n      <td>{'criterion': 'gini', 'max_features': 82}</td>\n      <td>1.0</td>\n      <td>1.0</td>\n      <td>0.996308</td>\n      <td>1.0</td>\n      <td>0.737685</td>\n      <td>0.946798</td>\n      <td>0.104567</td>\n      <td>3</td>\n    </tr>\n    <tr>\n      <th>32</th>\n      <td>1.426627</td>\n      <td>0.146538</td>\n      <td>0.026190</td>\n      <td>0.005908</td>\n      <td>gini</td>\n      <td>93</td>\n      <td>{'criterion': 'gini', 'max_features': 93}</td>\n      <td>1.0</td>\n      <td>1.0</td>\n      <td>0.996308</td>\n      <td>1.0</td>\n      <td>0.737685</td>\n      <td>0.946798</td>\n      <td>0.104567</td>\n      <td>3</td>\n    </tr>\n    <tr>\n      <th>3</th>\n      <td>1.520823</td>\n      <td>0.204488</td>\n      <td>0.023380</td>\n      <td>0.001020</td>\n      <td>gini</td>\n      <td>98</td>\n      <td>{'criterion': 'gini', 'max_features': 98}</td>\n      <td>1.0</td>\n      <td>1.0</td>\n      <td>0.996308</td>\n      <td>1.0</td>\n      <td>0.730296</td>\n      <td>0.945321</td>\n      <td>0.107522</td>\n      <td>5</td>\n    </tr>\n  </tbody>\n</table>\n</div>"
     },
     "metadata": {},
     "execution_count": 9
    }
   ],
   "source": [
    "rscv_results = pd.DataFrame(rscv.cv_results_)\n",
    "rscv_results.sort_values('rank_test_score', ascending=True).head(5)"
   ]
  },
  {
   "cell_type": "code",
   "execution_count": null,
   "metadata": {},
   "outputs": [],
   "source": []
  }
 ]
}