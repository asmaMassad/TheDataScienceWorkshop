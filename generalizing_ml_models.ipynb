{
  "nbformat": 4,
  "nbformat_minor": 0,
  "metadata": {
    "colab": {
      "name": "generalizating_ml_models.ipynb",
      "provenance": [],
      "collapsed_sections": [],
      "authorship_tag": "ABX9TyOBpwkSUyjyKTmgkuw+Ik5N",
      "include_colab_link": true
    },
    "kernelspec": {
      "name": "python3",
      "display_name": "Python 3"
    }
  },
  "cells": [
    {
      "cell_type": "markdown",
      "metadata": {
        "id": "view-in-github",
        "colab_type": "text"
      },
      "source": [
        "<a href=\"https://colab.research.google.com/github/asmaMassad/ML-Training/blob/main/generalizating_ml_models.ipynb\" target=\"_parent\"><img src=\"https://colab.research.google.com/assets/colab-badge.svg\" alt=\"Open In Colab\"/></a>"
      ]
    },
    {
      "cell_type": "markdown",
      "metadata": {
        "id": "FZcniLcTyhuo"
      },
      "source": [
        "# Find an Optimal Model for Predicting the Critical Temperatures of Superconductors"
      ]
    },
    {
      "cell_type": "markdown",
      "metadata": {
        "id": "489rpPpFIubM"
      },
      "source": [
        "#### Activity 7.01 / Book: The Data Science Workshop -CH7"
      ]
    },
    {
      "cell_type": "code",
      "metadata": {
        "id": "VuG-U40pyI35"
      },
      "source": [
        "import pandas as pd\r\n",
        "import numpy as nb\r\n",
        "from sklearn.linear_model import LinearRegression, Ridge, Lasso\r\n",
        "from sklearn.model_selection import train_test_split\r\n",
        "from sklearn.metrics import mean_squared_error\r\n",
        "from sklearn.pipeline import Pipeline\r\n",
        "from sklearn.preprocessing import MinMaxScaler, PolynomialFeatures"
      ],
      "execution_count": 1,
      "outputs": []
    },
    {
      "cell_type": "code",
      "metadata": {
        "id": "c27YdCaDypjs"
      },
      "source": [
        "data = pd.read_csv('https://raw.githubusercontent.com/PacktWorkshops/The-Data-Science-Workshop/master/Chapter07/Dataset/superconduct/train.csv')"
      ],
      "execution_count": 3,
      "outputs": []
    },
    {
      "cell_type": "code",
      "metadata": {
        "colab": {
          "base_uri": "https://localhost:8080/"
        },
        "id": "1sKD5qqKywKf",
        "outputId": "f6ac898a-505d-4c6a-cd77-51a945f8178c"
      },
      "source": [
        "data.info()"
      ],
      "execution_count": 4,
      "outputs": [
        {
          "output_type": "stream",
          "text": [
            "<class 'pandas.core.frame.DataFrame'>\n",
            "RangeIndex: 21263 entries, 0 to 21262\n",
            "Data columns (total 82 columns):\n",
            " #   Column                           Non-Null Count  Dtype  \n",
            "---  ------                           --------------  -----  \n",
            " 0   number_of_elements               21263 non-null  int64  \n",
            " 1   mean_atomic_mass                 21263 non-null  float64\n",
            " 2   wtd_mean_atomic_mass             21263 non-null  float64\n",
            " 3   gmean_atomic_mass                21263 non-null  float64\n",
            " 4   wtd_gmean_atomic_mass            21263 non-null  float64\n",
            " 5   entropy_atomic_mass              21263 non-null  float64\n",
            " 6   wtd_entropy_atomic_mass          21263 non-null  float64\n",
            " 7   range_atomic_mass                21263 non-null  float64\n",
            " 8   wtd_range_atomic_mass            21263 non-null  float64\n",
            " 9   std_atomic_mass                  21263 non-null  float64\n",
            " 10  wtd_std_atomic_mass              21263 non-null  float64\n",
            " 11  mean_fie                         21263 non-null  float64\n",
            " 12  wtd_mean_fie                     21263 non-null  float64\n",
            " 13  gmean_fie                        21263 non-null  float64\n",
            " 14  wtd_gmean_fie                    21263 non-null  float64\n",
            " 15  entropy_fie                      21263 non-null  float64\n",
            " 16  wtd_entropy_fie                  21263 non-null  float64\n",
            " 17  range_fie                        21263 non-null  float64\n",
            " 18  wtd_range_fie                    21263 non-null  float64\n",
            " 19  std_fie                          21263 non-null  float64\n",
            " 20  wtd_std_fie                      21263 non-null  float64\n",
            " 21  mean_atomic_radius               21263 non-null  float64\n",
            " 22  wtd_mean_atomic_radius           21263 non-null  float64\n",
            " 23  gmean_atomic_radius              21263 non-null  float64\n",
            " 24  wtd_gmean_atomic_radius          21263 non-null  float64\n",
            " 25  entropy_atomic_radius            21263 non-null  float64\n",
            " 26  wtd_entropy_atomic_radius        21263 non-null  float64\n",
            " 27  range_atomic_radius              21263 non-null  int64  \n",
            " 28  wtd_range_atomic_radius          21263 non-null  float64\n",
            " 29  std_atomic_radius                21263 non-null  float64\n",
            " 30  wtd_std_atomic_radius            21263 non-null  float64\n",
            " 31  mean_Density                     21263 non-null  float64\n",
            " 32  wtd_mean_Density                 21263 non-null  float64\n",
            " 33  gmean_Density                    21263 non-null  float64\n",
            " 34  wtd_gmean_Density                21263 non-null  float64\n",
            " 35  entropy_Density                  21263 non-null  float64\n",
            " 36  wtd_entropy_Density              21263 non-null  float64\n",
            " 37  range_Density                    21263 non-null  float64\n",
            " 38  wtd_range_Density                21263 non-null  float64\n",
            " 39  std_Density                      21263 non-null  float64\n",
            " 40  wtd_std_Density                  21263 non-null  float64\n",
            " 41  mean_ElectronAffinity            21263 non-null  float64\n",
            " 42  wtd_mean_ElectronAffinity        21263 non-null  float64\n",
            " 43  gmean_ElectronAffinity           21263 non-null  float64\n",
            " 44  wtd_gmean_ElectronAffinity       21263 non-null  float64\n",
            " 45  entropy_ElectronAffinity         21263 non-null  float64\n",
            " 46  wtd_entropy_ElectronAffinity     21263 non-null  float64\n",
            " 47  range_ElectronAffinity           21263 non-null  float64\n",
            " 48  wtd_range_ElectronAffinity       21263 non-null  float64\n",
            " 49  std_ElectronAffinity             21263 non-null  float64\n",
            " 50  wtd_std_ElectronAffinity         21263 non-null  float64\n",
            " 51  mean_FusionHeat                  21263 non-null  float64\n",
            " 52  wtd_mean_FusionHeat              21263 non-null  float64\n",
            " 53  gmean_FusionHeat                 21263 non-null  float64\n",
            " 54  wtd_gmean_FusionHeat             21263 non-null  float64\n",
            " 55  entropy_FusionHeat               21263 non-null  float64\n",
            " 56  wtd_entropy_FusionHeat           21263 non-null  float64\n",
            " 57  range_FusionHeat                 21263 non-null  float64\n",
            " 58  wtd_range_FusionHeat             21263 non-null  float64\n",
            " 59  std_FusionHeat                   21263 non-null  float64\n",
            " 60  wtd_std_FusionHeat               21263 non-null  float64\n",
            " 61  mean_ThermalConductivity         21263 non-null  float64\n",
            " 62  wtd_mean_ThermalConductivity     21263 non-null  float64\n",
            " 63  gmean_ThermalConductivity        21263 non-null  float64\n",
            " 64  wtd_gmean_ThermalConductivity    21263 non-null  float64\n",
            " 65  entropy_ThermalConductivity      21263 non-null  float64\n",
            " 66  wtd_entropy_ThermalConductivity  21263 non-null  float64\n",
            " 67  range_ThermalConductivity        21263 non-null  float64\n",
            " 68  wtd_range_ThermalConductivity    21263 non-null  float64\n",
            " 69  std_ThermalConductivity          21263 non-null  float64\n",
            " 70  wtd_std_ThermalConductivity      21263 non-null  float64\n",
            " 71  mean_Valence                     21263 non-null  float64\n",
            " 72  wtd_mean_Valence                 21263 non-null  float64\n",
            " 73  gmean_Valence                    21263 non-null  float64\n",
            " 74  wtd_gmean_Valence                21263 non-null  float64\n",
            " 75  entropy_Valence                  21263 non-null  float64\n",
            " 76  wtd_entropy_Valence              21263 non-null  float64\n",
            " 77  range_Valence                    21263 non-null  int64  \n",
            " 78  wtd_range_Valence                21263 non-null  float64\n",
            " 79  std_Valence                      21263 non-null  float64\n",
            " 80  wtd_std_Valence                  21263 non-null  float64\n",
            " 81  critical_temp                    21263 non-null  float64\n",
            "dtypes: float64(79), int64(3)\n",
            "memory usage: 13.3 MB\n"
          ],
          "name": "stdout"
        }
      ]
    },
    {
      "cell_type": "code",
      "metadata": {
        "colab": {
          "base_uri": "https://localhost:8080/",
          "height": 253
        },
        "id": "Ccvwi2Ogyw2o",
        "outputId": "db0ca39a-2eb2-424b-d948-ebd2f81fb03f"
      },
      "source": [
        "data.head()"
      ],
      "execution_count": 5,
      "outputs": [
        {
          "output_type": "execute_result",
          "data": {
            "text/html": [
              "<div>\n",
              "<style scoped>\n",
              "    .dataframe tbody tr th:only-of-type {\n",
              "        vertical-align: middle;\n",
              "    }\n",
              "\n",
              "    .dataframe tbody tr th {\n",
              "        vertical-align: top;\n",
              "    }\n",
              "\n",
              "    .dataframe thead th {\n",
              "        text-align: right;\n",
              "    }\n",
              "</style>\n",
              "<table border=\"1\" class=\"dataframe\">\n",
              "  <thead>\n",
              "    <tr style=\"text-align: right;\">\n",
              "      <th></th>\n",
              "      <th>number_of_elements</th>\n",
              "      <th>mean_atomic_mass</th>\n",
              "      <th>wtd_mean_atomic_mass</th>\n",
              "      <th>gmean_atomic_mass</th>\n",
              "      <th>wtd_gmean_atomic_mass</th>\n",
              "      <th>entropy_atomic_mass</th>\n",
              "      <th>wtd_entropy_atomic_mass</th>\n",
              "      <th>range_atomic_mass</th>\n",
              "      <th>wtd_range_atomic_mass</th>\n",
              "      <th>std_atomic_mass</th>\n",
              "      <th>wtd_std_atomic_mass</th>\n",
              "      <th>mean_fie</th>\n",
              "      <th>wtd_mean_fie</th>\n",
              "      <th>gmean_fie</th>\n",
              "      <th>wtd_gmean_fie</th>\n",
              "      <th>entropy_fie</th>\n",
              "      <th>wtd_entropy_fie</th>\n",
              "      <th>range_fie</th>\n",
              "      <th>wtd_range_fie</th>\n",
              "      <th>std_fie</th>\n",
              "      <th>wtd_std_fie</th>\n",
              "      <th>mean_atomic_radius</th>\n",
              "      <th>wtd_mean_atomic_radius</th>\n",
              "      <th>gmean_atomic_radius</th>\n",
              "      <th>wtd_gmean_atomic_radius</th>\n",
              "      <th>entropy_atomic_radius</th>\n",
              "      <th>wtd_entropy_atomic_radius</th>\n",
              "      <th>range_atomic_radius</th>\n",
              "      <th>wtd_range_atomic_radius</th>\n",
              "      <th>std_atomic_radius</th>\n",
              "      <th>wtd_std_atomic_radius</th>\n",
              "      <th>mean_Density</th>\n",
              "      <th>wtd_mean_Density</th>\n",
              "      <th>gmean_Density</th>\n",
              "      <th>wtd_gmean_Density</th>\n",
              "      <th>entropy_Density</th>\n",
              "      <th>wtd_entropy_Density</th>\n",
              "      <th>range_Density</th>\n",
              "      <th>wtd_range_Density</th>\n",
              "      <th>std_Density</th>\n",
              "      <th>...</th>\n",
              "      <th>wtd_mean_ElectronAffinity</th>\n",
              "      <th>gmean_ElectronAffinity</th>\n",
              "      <th>wtd_gmean_ElectronAffinity</th>\n",
              "      <th>entropy_ElectronAffinity</th>\n",
              "      <th>wtd_entropy_ElectronAffinity</th>\n",
              "      <th>range_ElectronAffinity</th>\n",
              "      <th>wtd_range_ElectronAffinity</th>\n",
              "      <th>std_ElectronAffinity</th>\n",
              "      <th>wtd_std_ElectronAffinity</th>\n",
              "      <th>mean_FusionHeat</th>\n",
              "      <th>wtd_mean_FusionHeat</th>\n",
              "      <th>gmean_FusionHeat</th>\n",
              "      <th>wtd_gmean_FusionHeat</th>\n",
              "      <th>entropy_FusionHeat</th>\n",
              "      <th>wtd_entropy_FusionHeat</th>\n",
              "      <th>range_FusionHeat</th>\n",
              "      <th>wtd_range_FusionHeat</th>\n",
              "      <th>std_FusionHeat</th>\n",
              "      <th>wtd_std_FusionHeat</th>\n",
              "      <th>mean_ThermalConductivity</th>\n",
              "      <th>wtd_mean_ThermalConductivity</th>\n",
              "      <th>gmean_ThermalConductivity</th>\n",
              "      <th>wtd_gmean_ThermalConductivity</th>\n",
              "      <th>entropy_ThermalConductivity</th>\n",
              "      <th>wtd_entropy_ThermalConductivity</th>\n",
              "      <th>range_ThermalConductivity</th>\n",
              "      <th>wtd_range_ThermalConductivity</th>\n",
              "      <th>std_ThermalConductivity</th>\n",
              "      <th>wtd_std_ThermalConductivity</th>\n",
              "      <th>mean_Valence</th>\n",
              "      <th>wtd_mean_Valence</th>\n",
              "      <th>gmean_Valence</th>\n",
              "      <th>wtd_gmean_Valence</th>\n",
              "      <th>entropy_Valence</th>\n",
              "      <th>wtd_entropy_Valence</th>\n",
              "      <th>range_Valence</th>\n",
              "      <th>wtd_range_Valence</th>\n",
              "      <th>std_Valence</th>\n",
              "      <th>wtd_std_Valence</th>\n",
              "      <th>critical_temp</th>\n",
              "    </tr>\n",
              "  </thead>\n",
              "  <tbody>\n",
              "    <tr>\n",
              "      <th>0</th>\n",
              "      <td>4</td>\n",
              "      <td>88.944468</td>\n",
              "      <td>57.862692</td>\n",
              "      <td>66.361592</td>\n",
              "      <td>36.116612</td>\n",
              "      <td>1.181795</td>\n",
              "      <td>1.062396</td>\n",
              "      <td>122.90607</td>\n",
              "      <td>31.794921</td>\n",
              "      <td>51.968828</td>\n",
              "      <td>53.622535</td>\n",
              "      <td>775.425</td>\n",
              "      <td>1010.268571</td>\n",
              "      <td>718.152900</td>\n",
              "      <td>938.016780</td>\n",
              "      <td>1.305967</td>\n",
              "      <td>0.791488</td>\n",
              "      <td>810.6</td>\n",
              "      <td>735.985714</td>\n",
              "      <td>323.811808</td>\n",
              "      <td>355.562967</td>\n",
              "      <td>160.25</td>\n",
              "      <td>105.514286</td>\n",
              "      <td>136.126003</td>\n",
              "      <td>84.528423</td>\n",
              "      <td>1.259244</td>\n",
              "      <td>1.207040</td>\n",
              "      <td>205</td>\n",
              "      <td>42.914286</td>\n",
              "      <td>75.237540</td>\n",
              "      <td>69.235569</td>\n",
              "      <td>4654.35725</td>\n",
              "      <td>2961.502286</td>\n",
              "      <td>724.953211</td>\n",
              "      <td>53.543811</td>\n",
              "      <td>1.033129</td>\n",
              "      <td>0.814598</td>\n",
              "      <td>8958.571</td>\n",
              "      <td>1579.583429</td>\n",
              "      <td>3306.162897</td>\n",
              "      <td>...</td>\n",
              "      <td>111.727143</td>\n",
              "      <td>60.123179</td>\n",
              "      <td>99.414682</td>\n",
              "      <td>1.159687</td>\n",
              "      <td>0.787382</td>\n",
              "      <td>127.05</td>\n",
              "      <td>80.987143</td>\n",
              "      <td>51.433712</td>\n",
              "      <td>42.558396</td>\n",
              "      <td>6.9055</td>\n",
              "      <td>3.846857</td>\n",
              "      <td>3.479475</td>\n",
              "      <td>1.040986</td>\n",
              "      <td>1.088575</td>\n",
              "      <td>0.994998</td>\n",
              "      <td>12.878</td>\n",
              "      <td>1.744571</td>\n",
              "      <td>4.599064</td>\n",
              "      <td>4.666920</td>\n",
              "      <td>107.756645</td>\n",
              "      <td>61.015189</td>\n",
              "      <td>7.062488</td>\n",
              "      <td>0.621979</td>\n",
              "      <td>0.308148</td>\n",
              "      <td>0.262848</td>\n",
              "      <td>399.97342</td>\n",
              "      <td>57.127669</td>\n",
              "      <td>168.854244</td>\n",
              "      <td>138.517163</td>\n",
              "      <td>2.25</td>\n",
              "      <td>2.257143</td>\n",
              "      <td>2.213364</td>\n",
              "      <td>2.219783</td>\n",
              "      <td>1.368922</td>\n",
              "      <td>1.066221</td>\n",
              "      <td>1</td>\n",
              "      <td>1.085714</td>\n",
              "      <td>0.433013</td>\n",
              "      <td>0.437059</td>\n",
              "      <td>29.0</td>\n",
              "    </tr>\n",
              "    <tr>\n",
              "      <th>1</th>\n",
              "      <td>5</td>\n",
              "      <td>92.729214</td>\n",
              "      <td>58.518416</td>\n",
              "      <td>73.132787</td>\n",
              "      <td>36.396602</td>\n",
              "      <td>1.449309</td>\n",
              "      <td>1.057755</td>\n",
              "      <td>122.90607</td>\n",
              "      <td>36.161939</td>\n",
              "      <td>47.094633</td>\n",
              "      <td>53.979870</td>\n",
              "      <td>766.440</td>\n",
              "      <td>1010.612857</td>\n",
              "      <td>720.605511</td>\n",
              "      <td>938.745413</td>\n",
              "      <td>1.544145</td>\n",
              "      <td>0.807078</td>\n",
              "      <td>810.6</td>\n",
              "      <td>743.164286</td>\n",
              "      <td>290.183029</td>\n",
              "      <td>354.963511</td>\n",
              "      <td>161.20</td>\n",
              "      <td>104.971429</td>\n",
              "      <td>141.465215</td>\n",
              "      <td>84.370167</td>\n",
              "      <td>1.508328</td>\n",
              "      <td>1.204115</td>\n",
              "      <td>205</td>\n",
              "      <td>50.571429</td>\n",
              "      <td>67.321319</td>\n",
              "      <td>68.008817</td>\n",
              "      <td>5821.48580</td>\n",
              "      <td>3021.016571</td>\n",
              "      <td>1237.095080</td>\n",
              "      <td>54.095718</td>\n",
              "      <td>1.314442</td>\n",
              "      <td>0.914802</td>\n",
              "      <td>10488.571</td>\n",
              "      <td>1667.383429</td>\n",
              "      <td>3767.403176</td>\n",
              "      <td>...</td>\n",
              "      <td>112.316429</td>\n",
              "      <td>69.833315</td>\n",
              "      <td>101.166398</td>\n",
              "      <td>1.427997</td>\n",
              "      <td>0.838666</td>\n",
              "      <td>127.05</td>\n",
              "      <td>81.207857</td>\n",
              "      <td>49.438167</td>\n",
              "      <td>41.667621</td>\n",
              "      <td>7.7844</td>\n",
              "      <td>3.796857</td>\n",
              "      <td>4.403790</td>\n",
              "      <td>1.035251</td>\n",
              "      <td>1.374977</td>\n",
              "      <td>1.073094</td>\n",
              "      <td>12.878</td>\n",
              "      <td>1.595714</td>\n",
              "      <td>4.473363</td>\n",
              "      <td>4.603000</td>\n",
              "      <td>172.205316</td>\n",
              "      <td>61.372331</td>\n",
              "      <td>16.064228</td>\n",
              "      <td>0.619735</td>\n",
              "      <td>0.847404</td>\n",
              "      <td>0.567706</td>\n",
              "      <td>429.97342</td>\n",
              "      <td>51.413383</td>\n",
              "      <td>198.554600</td>\n",
              "      <td>139.630922</td>\n",
              "      <td>2.00</td>\n",
              "      <td>2.257143</td>\n",
              "      <td>1.888175</td>\n",
              "      <td>2.210679</td>\n",
              "      <td>1.557113</td>\n",
              "      <td>1.047221</td>\n",
              "      <td>2</td>\n",
              "      <td>1.128571</td>\n",
              "      <td>0.632456</td>\n",
              "      <td>0.468606</td>\n",
              "      <td>26.0</td>\n",
              "    </tr>\n",
              "    <tr>\n",
              "      <th>2</th>\n",
              "      <td>4</td>\n",
              "      <td>88.944468</td>\n",
              "      <td>57.885242</td>\n",
              "      <td>66.361592</td>\n",
              "      <td>36.122509</td>\n",
              "      <td>1.181795</td>\n",
              "      <td>0.975980</td>\n",
              "      <td>122.90607</td>\n",
              "      <td>35.741099</td>\n",
              "      <td>51.968828</td>\n",
              "      <td>53.656268</td>\n",
              "      <td>775.425</td>\n",
              "      <td>1010.820000</td>\n",
              "      <td>718.152900</td>\n",
              "      <td>939.009036</td>\n",
              "      <td>1.305967</td>\n",
              "      <td>0.773620</td>\n",
              "      <td>810.6</td>\n",
              "      <td>743.164286</td>\n",
              "      <td>323.811808</td>\n",
              "      <td>354.804183</td>\n",
              "      <td>160.25</td>\n",
              "      <td>104.685714</td>\n",
              "      <td>136.126003</td>\n",
              "      <td>84.214573</td>\n",
              "      <td>1.259244</td>\n",
              "      <td>1.132547</td>\n",
              "      <td>205</td>\n",
              "      <td>49.314286</td>\n",
              "      <td>75.237540</td>\n",
              "      <td>67.797712</td>\n",
              "      <td>4654.35725</td>\n",
              "      <td>2999.159429</td>\n",
              "      <td>724.953211</td>\n",
              "      <td>53.974022</td>\n",
              "      <td>1.033129</td>\n",
              "      <td>0.760305</td>\n",
              "      <td>8958.571</td>\n",
              "      <td>1667.383429</td>\n",
              "      <td>3306.162897</td>\n",
              "      <td>...</td>\n",
              "      <td>112.213571</td>\n",
              "      <td>60.123179</td>\n",
              "      <td>101.082152</td>\n",
              "      <td>1.159687</td>\n",
              "      <td>0.786007</td>\n",
              "      <td>127.05</td>\n",
              "      <td>81.207857</td>\n",
              "      <td>51.433712</td>\n",
              "      <td>41.639878</td>\n",
              "      <td>6.9055</td>\n",
              "      <td>3.822571</td>\n",
              "      <td>3.479475</td>\n",
              "      <td>1.037439</td>\n",
              "      <td>1.088575</td>\n",
              "      <td>0.927479</td>\n",
              "      <td>12.878</td>\n",
              "      <td>1.757143</td>\n",
              "      <td>4.599064</td>\n",
              "      <td>4.649635</td>\n",
              "      <td>107.756645</td>\n",
              "      <td>60.943760</td>\n",
              "      <td>7.062488</td>\n",
              "      <td>0.619095</td>\n",
              "      <td>0.308148</td>\n",
              "      <td>0.250477</td>\n",
              "      <td>399.97342</td>\n",
              "      <td>57.127669</td>\n",
              "      <td>168.854244</td>\n",
              "      <td>138.540613</td>\n",
              "      <td>2.25</td>\n",
              "      <td>2.271429</td>\n",
              "      <td>2.213364</td>\n",
              "      <td>2.232679</td>\n",
              "      <td>1.368922</td>\n",
              "      <td>1.029175</td>\n",
              "      <td>1</td>\n",
              "      <td>1.114286</td>\n",
              "      <td>0.433013</td>\n",
              "      <td>0.444697</td>\n",
              "      <td>19.0</td>\n",
              "    </tr>\n",
              "    <tr>\n",
              "      <th>3</th>\n",
              "      <td>4</td>\n",
              "      <td>88.944468</td>\n",
              "      <td>57.873967</td>\n",
              "      <td>66.361592</td>\n",
              "      <td>36.119560</td>\n",
              "      <td>1.181795</td>\n",
              "      <td>1.022291</td>\n",
              "      <td>122.90607</td>\n",
              "      <td>33.768010</td>\n",
              "      <td>51.968828</td>\n",
              "      <td>53.639405</td>\n",
              "      <td>775.425</td>\n",
              "      <td>1010.544286</td>\n",
              "      <td>718.152900</td>\n",
              "      <td>938.512777</td>\n",
              "      <td>1.305967</td>\n",
              "      <td>0.783207</td>\n",
              "      <td>810.6</td>\n",
              "      <td>739.575000</td>\n",
              "      <td>323.811808</td>\n",
              "      <td>355.183884</td>\n",
              "      <td>160.25</td>\n",
              "      <td>105.100000</td>\n",
              "      <td>136.126003</td>\n",
              "      <td>84.371352</td>\n",
              "      <td>1.259244</td>\n",
              "      <td>1.173033</td>\n",
              "      <td>205</td>\n",
              "      <td>46.114286</td>\n",
              "      <td>75.237540</td>\n",
              "      <td>68.521665</td>\n",
              "      <td>4654.35725</td>\n",
              "      <td>2980.330857</td>\n",
              "      <td>724.953211</td>\n",
              "      <td>53.758486</td>\n",
              "      <td>1.033129</td>\n",
              "      <td>0.788889</td>\n",
              "      <td>8958.571</td>\n",
              "      <td>1623.483429</td>\n",
              "      <td>3306.162897</td>\n",
              "      <td>...</td>\n",
              "      <td>111.970357</td>\n",
              "      <td>60.123179</td>\n",
              "      <td>100.244950</td>\n",
              "      <td>1.159687</td>\n",
              "      <td>0.786900</td>\n",
              "      <td>127.05</td>\n",
              "      <td>81.097500</td>\n",
              "      <td>51.433712</td>\n",
              "      <td>42.102344</td>\n",
              "      <td>6.9055</td>\n",
              "      <td>3.834714</td>\n",
              "      <td>3.479475</td>\n",
              "      <td>1.039211</td>\n",
              "      <td>1.088575</td>\n",
              "      <td>0.964031</td>\n",
              "      <td>12.878</td>\n",
              "      <td>1.744571</td>\n",
              "      <td>4.599064</td>\n",
              "      <td>4.658301</td>\n",
              "      <td>107.756645</td>\n",
              "      <td>60.979474</td>\n",
              "      <td>7.062488</td>\n",
              "      <td>0.620535</td>\n",
              "      <td>0.308148</td>\n",
              "      <td>0.257045</td>\n",
              "      <td>399.97342</td>\n",
              "      <td>57.127669</td>\n",
              "      <td>168.854244</td>\n",
              "      <td>138.528893</td>\n",
              "      <td>2.25</td>\n",
              "      <td>2.264286</td>\n",
              "      <td>2.213364</td>\n",
              "      <td>2.226222</td>\n",
              "      <td>1.368922</td>\n",
              "      <td>1.048834</td>\n",
              "      <td>1</td>\n",
              "      <td>1.100000</td>\n",
              "      <td>0.433013</td>\n",
              "      <td>0.440952</td>\n",
              "      <td>22.0</td>\n",
              "    </tr>\n",
              "    <tr>\n",
              "      <th>4</th>\n",
              "      <td>4</td>\n",
              "      <td>88.944468</td>\n",
              "      <td>57.840143</td>\n",
              "      <td>66.361592</td>\n",
              "      <td>36.110716</td>\n",
              "      <td>1.181795</td>\n",
              "      <td>1.129224</td>\n",
              "      <td>122.90607</td>\n",
              "      <td>27.848743</td>\n",
              "      <td>51.968828</td>\n",
              "      <td>53.588771</td>\n",
              "      <td>775.425</td>\n",
              "      <td>1009.717143</td>\n",
              "      <td>718.152900</td>\n",
              "      <td>937.025573</td>\n",
              "      <td>1.305967</td>\n",
              "      <td>0.805230</td>\n",
              "      <td>810.6</td>\n",
              "      <td>728.807143</td>\n",
              "      <td>323.811808</td>\n",
              "      <td>356.319281</td>\n",
              "      <td>160.25</td>\n",
              "      <td>106.342857</td>\n",
              "      <td>136.126003</td>\n",
              "      <td>84.843442</td>\n",
              "      <td>1.259244</td>\n",
              "      <td>1.261194</td>\n",
              "      <td>205</td>\n",
              "      <td>36.514286</td>\n",
              "      <td>75.237540</td>\n",
              "      <td>70.634448</td>\n",
              "      <td>4654.35725</td>\n",
              "      <td>2923.845143</td>\n",
              "      <td>724.953211</td>\n",
              "      <td>53.117029</td>\n",
              "      <td>1.033129</td>\n",
              "      <td>0.859811</td>\n",
              "      <td>8958.571</td>\n",
              "      <td>1491.783429</td>\n",
              "      <td>3306.162897</td>\n",
              "      <td>...</td>\n",
              "      <td>111.240714</td>\n",
              "      <td>60.123179</td>\n",
              "      <td>97.774719</td>\n",
              "      <td>1.159687</td>\n",
              "      <td>0.787396</td>\n",
              "      <td>127.05</td>\n",
              "      <td>80.766429</td>\n",
              "      <td>51.433712</td>\n",
              "      <td>43.452059</td>\n",
              "      <td>6.9055</td>\n",
              "      <td>3.871143</td>\n",
              "      <td>3.479475</td>\n",
              "      <td>1.044545</td>\n",
              "      <td>1.088575</td>\n",
              "      <td>1.044970</td>\n",
              "      <td>12.878</td>\n",
              "      <td>1.744571</td>\n",
              "      <td>4.599064</td>\n",
              "      <td>4.684014</td>\n",
              "      <td>107.756645</td>\n",
              "      <td>61.086617</td>\n",
              "      <td>7.062488</td>\n",
              "      <td>0.624878</td>\n",
              "      <td>0.308148</td>\n",
              "      <td>0.272820</td>\n",
              "      <td>399.97342</td>\n",
              "      <td>57.127669</td>\n",
              "      <td>168.854244</td>\n",
              "      <td>138.493671</td>\n",
              "      <td>2.25</td>\n",
              "      <td>2.242857</td>\n",
              "      <td>2.213364</td>\n",
              "      <td>2.206963</td>\n",
              "      <td>1.368922</td>\n",
              "      <td>1.096052</td>\n",
              "      <td>1</td>\n",
              "      <td>1.057143</td>\n",
              "      <td>0.433013</td>\n",
              "      <td>0.428809</td>\n",
              "      <td>23.0</td>\n",
              "    </tr>\n",
              "  </tbody>\n",
              "</table>\n",
              "<p>5 rows × 82 columns</p>\n",
              "</div>"
            ],
            "text/plain": [
              "   number_of_elements  mean_atomic_mass  ...  wtd_std_Valence  critical_temp\n",
              "0                   4         88.944468  ...         0.437059           29.0\n",
              "1                   5         92.729214  ...         0.468606           26.0\n",
              "2                   4         88.944468  ...         0.444697           19.0\n",
              "3                   4         88.944468  ...         0.440952           22.0\n",
              "4                   4         88.944468  ...         0.428809           23.0\n",
              "\n",
              "[5 rows x 82 columns]"
            ]
          },
          "metadata": {
            "tags": []
          },
          "execution_count": 5
        }
      ]
    },
    {
      "cell_type": "code",
      "metadata": {
        "id": "pEKGjCSVy4hC"
      },
      "source": [
        "X = data.drop(['critical_temp'], axis=1).values\r\n",
        "y = data['critical_temp'].values"
      ],
      "execution_count": 6,
      "outputs": []
    },
    {
      "cell_type": "code",
      "metadata": {
        "id": "7PbOMTdsy65Y"
      },
      "source": [
        "train_X, eval_X, train_y, eval_y = train_test_split(X, y, test_size=0.8, random_state=0)"
      ],
      "execution_count": 7,
      "outputs": []
    },
    {
      "cell_type": "code",
      "metadata": {
        "id": "Pswica4ky86X"
      },
      "source": [
        "lr_model_1 = LinearRegression()"
      ],
      "execution_count": 8,
      "outputs": []
    },
    {
      "cell_type": "code",
      "metadata": {
        "colab": {
          "base_uri": "https://localhost:8080/"
        },
        "id": "a7DncUIRzCH_",
        "outputId": "c8a654ce-d25c-407d-801e-8de375b36470"
      },
      "source": [
        "lr_model_1.fit(train_X, train_y)"
      ],
      "execution_count": 9,
      "outputs": [
        {
          "output_type": "execute_result",
          "data": {
            "text/plain": [
              "LinearRegression(copy_X=True, fit_intercept=True, n_jobs=None, normalize=False)"
            ]
          },
          "metadata": {
            "tags": []
          },
          "execution_count": 9
        }
      ]
    },
    {
      "cell_type": "code",
      "metadata": {
        "id": "lpb9-ETgzETN"
      },
      "source": [
        "lr_model_1_pred = lr_model_1.predict(eval_X)"
      ],
      "execution_count": 10,
      "outputs": []
    },
    {
      "cell_type": "code",
      "metadata": {
        "colab": {
          "base_uri": "https://localhost:8080/"
        },
        "id": "NVbB9q3HzGPg",
        "outputId": "f995b46b-a564-4ad2-8393-f47d80a36a72"
      },
      "source": [
        "print('model MSE ', mean_squared_error(eval_y, lr_model_1_pred))"
      ],
      "execution_count": 11,
      "outputs": [
        {
          "output_type": "stream",
          "text": [
            "model MSE  314.12658901219083\n"
          ],
          "name": "stdout"
        }
      ]
    },
    {
      "cell_type": "markdown",
      "metadata": {
        "id": "9mFvQJofzgmF"
      },
      "source": [
        "### Model 2: Polynomial Regression with degree 3"
      ]
    },
    {
      "cell_type": "code",
      "metadata": {
        "id": "MWh1HJS3zhmD"
      },
      "source": [
        "steps = [\r\n",
        "    ('scalar', MinMaxScaler()),\r\n",
        "    ('poly', PolynomialFeatures(degree=3, interaction_only=True)),\r\n",
        "    ('model', LinearRegression())\r\n",
        "]"
      ],
      "execution_count": 12,
      "outputs": []
    },
    {
      "cell_type": "code",
      "metadata": {
        "id": "OSXdYjyHzmB4"
      },
      "source": [
        "lr_model_2 = Pipeline(steps)"
      ],
      "execution_count": 13,
      "outputs": []
    },
    {
      "cell_type": "code",
      "metadata": {
        "colab": {
          "base_uri": "https://localhost:8080/"
        },
        "id": "Mgd5ybAszoCD",
        "outputId": "807a3589-be06-48cd-e59d-86765afb4a0a"
      },
      "source": [
        "lr_model_2.fit(train_X,train_y)"
      ],
      "execution_count": 14,
      "outputs": [
        {
          "output_type": "execute_result",
          "data": {
            "text/plain": [
              "Pipeline(memory=None,\n",
              "         steps=[('scalar', MinMaxScaler(copy=True, feature_range=(0, 1))),\n",
              "                ('poly',\n",
              "                 PolynomialFeatures(degree=3, include_bias=True,\n",
              "                                    interaction_only=True, order='C')),\n",
              "                ('model',\n",
              "                 LinearRegression(copy_X=True, fit_intercept=True, n_jobs=None,\n",
              "                                  normalize=False))],\n",
              "         verbose=False)"
            ]
          },
          "metadata": {
            "tags": []
          },
          "execution_count": 14
        }
      ]
    },
    {
      "cell_type": "code",
      "metadata": {
        "id": "_jVdwvZszpy1"
      },
      "source": [
        "lr_model_2_pred = lr_model_2.predict(eval_X)"
      ],
      "execution_count": 15,
      "outputs": []
    },
    {
      "cell_type": "code",
      "metadata": {
        "colab": {
          "base_uri": "https://localhost:8080/"
        },
        "id": "n9-3tiL-0svz",
        "outputId": "5f7ece59-9b92-45cd-adf4-85c1c943b671"
      },
      "source": [
        "print('Model 2 MSE', mean_squared_error(eval_y, lr_model_2_pred))"
      ],
      "execution_count": 16,
      "outputs": [
        {
          "output_type": "stream",
          "text": [
            "Model 2 MSE 3.981307826769732e+21\n"
          ],
          "name": "stdout"
        }
      ]
    },
    {
      "cell_type": "code",
      "metadata": {
        "colab": {
          "base_uri": "https://localhost:8080/"
        },
        "id": "mE_KhOt-1KD4",
        "outputId": "6efbdc3e-6c34-4e16-ddcd-22caa1e45889"
      },
      "source": [
        "print('Model 2 R2 score', lr_model_2.score(eval_X, eval_y))"
      ],
      "execution_count": 17,
      "outputs": [
        {
          "output_type": "stream",
          "text": [
            "Model 2 R2 score -3.3859827225630546e+18\n"
          ],
          "name": "stdout"
        }
      ]
    },
    {
      "cell_type": "code",
      "metadata": {
        "colab": {
          "base_uri": "https://localhost:8080/"
        },
        "id": "5Riv8jEN1XmG",
        "outputId": "33d028e1-edd7-4a77-c216-f4aa31e735f7"
      },
      "source": [
        "print('Number of coefficients: {}'.format(len(lr_model_2[-1].coef_)))"
      ],
      "execution_count": 19,
      "outputs": [
        {
          "output_type": "stream",
          "text": [
            "Number of coefficients: 88642\n"
          ],
          "name": "stdout"
        }
      ]
    },
    {
      "cell_type": "markdown",
      "metadata": {
        "id": "ByFX50m51sEt"
      },
      "source": [
        "## Lasso Regression"
      ]
    },
    {
      "cell_type": "code",
      "metadata": {
        "id": "PfKau3K11kWo"
      },
      "source": [
        "steps = [\r\n",
        "         ('scalar', MinMaxScaler()),\r\n",
        "         ('poly', PolynomialFeatures(degree=3, interaction_only=True)),\r\n",
        "         ('model', Lasso(alpha=0.001, max_iter=2000))\r\n",
        "]"
      ],
      "execution_count": 23,
      "outputs": []
    },
    {
      "cell_type": "code",
      "metadata": {
        "id": "rHquIIZo2Xm_"
      },
      "source": [
        "lasso_model = Pipeline(steps)"
      ],
      "execution_count": 24,
      "outputs": []
    },
    {
      "cell_type": "code",
      "metadata": {
        "colab": {
          "base_uri": "https://localhost:8080/"
        },
        "id": "CbjzwoXA2bf_",
        "outputId": "c836bb26-708e-4ccc-dbbb-40ea5786093c"
      },
      "source": [
        "lasso_model.fit(train_X, train_y)"
      ],
      "execution_count": 25,
      "outputs": [
        {
          "output_type": "stream",
          "text": [
            "/usr/local/lib/python3.6/dist-packages/sklearn/linear_model/_coordinate_descent.py:476: ConvergenceWarning: Objective did not converge. You might want to increase the number of iterations. Duality gap: 192283.14614944346, tolerance: 494.61267754025044\n",
            "  positive)\n"
          ],
          "name": "stderr"
        },
        {
          "output_type": "execute_result",
          "data": {
            "text/plain": [
              "Pipeline(memory=None,\n",
              "         steps=[('scalar', MinMaxScaler(copy=True, feature_range=(0, 1))),\n",
              "                ('poly',\n",
              "                 PolynomialFeatures(degree=3, include_bias=True,\n",
              "                                    interaction_only=True, order='C')),\n",
              "                ('model',\n",
              "                 Lasso(alpha=0.001, copy_X=True, fit_intercept=True,\n",
              "                       max_iter=2000, normalize=False, positive=False,\n",
              "                       precompute=False, random_state=None, selection='cyclic',\n",
              "                       tol=0.0001, warm_start=False))],\n",
              "         verbose=False)"
            ]
          },
          "metadata": {
            "tags": []
          },
          "execution_count": 25
        }
      ]
    },
    {
      "cell_type": "code",
      "metadata": {
        "colab": {
          "base_uri": "https://localhost:8080/"
        },
        "id": "D1rR3fOP21Rs",
        "outputId": "1064c7b1-f463-4a39-b7d8-1739389d154f"
      },
      "source": [
        "print('Lasso Model R2 score', lasso_model.score(eval_X, eval_y))"
      ],
      "execution_count": 26,
      "outputs": [
        {
          "output_type": "stream",
          "text": [
            "Lasso Model R2 score 0.8325230040978593\n"
          ],
          "name": "stdout"
        }
      ]
    },
    {
      "cell_type": "markdown",
      "metadata": {
        "id": "vusZeHk-516r"
      },
      "source": [
        "## Ridge Regressio"
      ]
    },
    {
      "cell_type": "code",
      "metadata": {
        "id": "oJNcyKdr5o6K"
      },
      "source": [
        "steps = [\r\n",
        "         ('scalar', MinMaxScaler()),\r\n",
        "         ('poly', PolynomialFeatures(degree=3, interaction_only=True)),\r\n",
        "         ('model', Ridge(alpha=0.9))\r\n",
        "]"
      ],
      "execution_count": 27,
      "outputs": []
    },
    {
      "cell_type": "code",
      "metadata": {
        "id": "sXf-mMEP6GPP"
      },
      "source": [
        "ridge_model = Pipeline(steps)"
      ],
      "execution_count": 28,
      "outputs": []
    },
    {
      "cell_type": "code",
      "metadata": {
        "colab": {
          "base_uri": "https://localhost:8080/"
        },
        "id": "UWw92pxO6Jhi",
        "outputId": "e12a770b-319b-4c5d-ea89-626f7f36aa58"
      },
      "source": [
        "ridge_model.fit(train_X, train_y)"
      ],
      "execution_count": 29,
      "outputs": [
        {
          "output_type": "execute_result",
          "data": {
            "text/plain": [
              "Pipeline(memory=None,\n",
              "         steps=[('scalar', MinMaxScaler(copy=True, feature_range=(0, 1))),\n",
              "                ('poly',\n",
              "                 PolynomialFeatures(degree=3, include_bias=True,\n",
              "                                    interaction_only=True, order='C')),\n",
              "                ('model',\n",
              "                 Ridge(alpha=0.9, copy_X=True, fit_intercept=True,\n",
              "                       max_iter=None, normalize=False, random_state=None,\n",
              "                       solver='auto', tol=0.001))],\n",
              "         verbose=False)"
            ]
          },
          "metadata": {
            "tags": []
          },
          "execution_count": 29
        }
      ]
    },
    {
      "cell_type": "code",
      "metadata": {
        "colab": {
          "base_uri": "https://localhost:8080/"
        },
        "id": "SKMhu3d96POL",
        "outputId": "3d06ec96-e992-462a-caa0-0d5b061f46e9"
      },
      "source": [
        "print('Ridge Model R2 score', ridge_model.score(eval_X, eval_y))"
      ],
      "execution_count": 30,
      "outputs": [
        {
          "output_type": "stream",
          "text": [
            "Ridge Model R2 score 0.8322365420648513\n"
          ],
          "name": "stdout"
        }
      ]
    },
    {
      "cell_type": "code",
      "metadata": {
        "id": "0EEPpVeW7T-f"
      },
      "source": [
        ""
      ],
      "execution_count": null,
      "outputs": []
    }
  ]
}